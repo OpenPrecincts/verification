{
 "cells": [
  {
   "cell_type": "markdown",
   "metadata": {},
   "source": [
    "# Verification Example Notebook"
   ]
  },
  {
   "cell_type": "markdown",
   "metadata": {},
   "source": [
    "This Notebook will show how to use the verification script by providing a few examples in order of increasing difficulty. Before you start I highly suggest at least skimming [README.md](https://github.com/OpenPrecincts/verification/blob/master/README.md)"
   ]
  },
  {
   "cell_type": "code",
   "execution_count": 1,
   "metadata": {},
   "outputs": [
    {
     "name": "stderr",
     "output_type": "stream",
     "text": [
      "/Users/bdemers/miniconda3/lib/python3.7/site-packages/pyproj/crs/crs.py:55: FutureWarning: '+init=<authority>:<code>' syntax is deprecated. '<authority>:<code>' is the preferred initialization method. When making the change, be mindful of axis order changes: https://pyproj4.github.io/pyproj/stable/gotchas.html#axis-order-changes-in-proj-6\n",
      "  return _prepare_from_string(\" \".join(pjargs))\n"
     ]
    }
   ],
   "source": [
    "import geopandas as gpd\n",
    "import verify"
   ]
  },
  {
   "cell_type": "markdown",
   "metadata": {},
   "source": [
    "## Example #1 - The best case scenario"
   ]
  },
  {
   "cell_type": "code",
   "execution_count": 2,
   "metadata": {},
   "outputs": [
    {
     "ename": "NameError",
     "evalue": "name 'plt' is not defined",
     "output_type": "error",
     "traceback": [
      "\u001b[0;31m---------------------------------------------------------------------------\u001b[0m",
      "\u001b[0;31mNameError\u001b[0m                                 Traceback (most recent call last)",
      "\u001b[0;32m<ipython-input-2-c3eaf79fa3c2>\u001b[0m in \u001b[0;36m<module>\u001b[0;34m()\u001b[0m\n\u001b[1;32m      1\u001b[0m \u001b[0mgdf\u001b[0m \u001b[0;34m=\u001b[0m \u001b[0mgpd\u001b[0m\u001b[0;34m.\u001b[0m\u001b[0mread_file\u001b[0m\u001b[0;34m(\u001b[0m\u001b[0;34m'example-election-shapefiles/open-precincts-md-2016'\u001b[0m\u001b[0;34m)\u001b[0m\u001b[0;34m\u001b[0m\u001b[0;34m\u001b[0m\u001b[0m\n\u001b[1;32m      2\u001b[0m \u001b[0mgdf\u001b[0m\u001b[0;34m.\u001b[0m\u001b[0mplot\u001b[0m\u001b[0;34m(\u001b[0m\u001b[0;34m)\u001b[0m\u001b[0;34m\u001b[0m\u001b[0;34m\u001b[0m\u001b[0m\n\u001b[0;32m----> 3\u001b[0;31m \u001b[0mplt\u001b[0m\u001b[0;34m.\u001b[0m\u001b[0mshow\u001b[0m\u001b[0;34m(\u001b[0m\u001b[0;34m)\u001b[0m\u001b[0;34m\u001b[0m\u001b[0;34m\u001b[0m\u001b[0m\n\u001b[0m",
      "\u001b[0;31mNameError\u001b[0m: name 'plt' is not defined"
     ]
    }
   ],
   "source": [
    "gdf = gpd.read_file('example-election-shapefiles/open-precincts-md-2016')\n",
    "print(gdf.plot())\n",
    "gdf.head(2)"
   ]
  },
  {
   "cell_type": "code",
   "execution_count": null,
   "metadata": {},
   "outputs": [],
   "source": []
  },
  {
   "cell_type": "markdown",
   "metadata": {},
   "source": [
    "Great - our election shapefile looks good because it has:\n",
    "* election results at a precinct level with vote counts \n",
    "    * for Clinton (G16DPRS)\n",
    "    * and Trump (G16DPRS)\n",
    "* AND geometries for each precinct (geometry)\n",
    "\n",
    "We need all the bullets above in order to use the verification script. Next we will apply verify.verify_state. It's docstring is as follows:\n",
    "\n",
    "```\n",
    "returns a complete (StateReport) object and a ((CountyReport) list) for the state.\n",
    "\n",
    ":state_prec_gdf: (GeoDataFrame) containing precinct geometries and election results\n",
    ":state_abbreviation: (str) e.g. 'MA' for Massachusetts\n",
    ":source: (str) person or organization that made the 'state_prec_gdf' e.g 'VEST'\n",
    ":year: (str) 'YYYY' indicating the year the election took place e.g. '2016'\n",
    ":d_col: (str) denotes the column for Hillary Clinton vote counts in each precinct\n",
    ":r_col: (str) denotes the column for Donald Trump vote counts in each precinct\n",
    ":path: (str) filepath to which the report should be saved (if None it won't be saved)\n",
    "\n",
    "d_col, r_col are optional - if they are not provided, 'get_party_cols' will be used\n",
    "to guess based on comparing each column in state_prec_gdf to the expected results.\n",
    "```\n",
    "\n",
    "Pro tip: If you want to view a docstring in Jupyter Notebooks just type hit `shift-tab` after the name of the function for which you want to see the docstring. "
   ]
  },
  {
   "cell_type": "markdown",
   "metadata": {},
   "source": [
    "It's normal for the cell above this one to take a while - normally a few minutes, but even hours in extreme cases. It  depends on the complexity of the state shapefile.\n",
    "\n",
    "Now that it's finished, let's inspect the reports it returned."
   ]
  },
  {
   "cell_type": "code",
   "execution_count": null,
   "metadata": {},
   "outputs": [],
   "source": [
    "vars(state_report)"
   ]
  },
  {
   "cell_type": "code",
   "execution_count": null,
   "metadata": {},
   "outputs": [],
   "source": [
    "vars(county_report_lst[0])"
   ]
  },
  {
   "cell_type": "code",
   "execution_count": null,
   "metadata": {},
   "outputs": [],
   "source": [
    "len(county_report_lst)"
   ]
  },
  {
   "cell_type": "markdown",
   "metadata": {},
   "source": [
    "Great - now let's use these report objects to render a markdown file. You can also do this with verify.verify_state by providing the optional arguement `path` "
   ]
  },
  {
   "cell_type": "code",
   "execution_count": null,
   "metadata": {},
   "outputs": [],
   "source": [
    "report_file_path = 'open-precincts-maryland-2016'\n",
    "verify.make_report(report_file_path, state_report, county_report_lst)"
   ]
  },
  {
   "cell_type": "code",
   "execution_count": 3,
   "metadata": {},
   "outputs": [
    {
     "data": {
      "text/html": [
       "<style>\n",
       "  table {margin-left: 0 !important;}\n",
       "</style>"
      ],
      "text/plain": [
       "<IPython.core.display.HTML object>"
      ]
     },
     "metadata": {},
     "output_type": "display_data"
    }
   ],
   "source": [
    "%%html\n",
    "<style>\n",
    "  table {margin-left: 0 !important;}\n",
    "</style>"
   ]
  },
  {
   "cell_type": "markdown",
   "metadata": {},
   "source": [
    "Here is are the contents of open-precincts-maryland-2016.md:\n",
    "\n",
    "\n",
    "# Election Shapefile Verification Report\n",
    "\n",
    "[Open Precincts Verification Script](https://github.com/OpenPrecincts/verification)\n",
    "\n",
    "[Verification Report Breakdown](https://github.com/OpenPrecincts/verification#verification-report-fields)\n",
    "## Statewide Reports\n",
    "\n",
    "### Quality Scores:\n",
    "|                                                                                                            |           |\n",
    "|:-----------------------------------------------------------------------------------------------------------|----------:|\n",
    "| [vote_score](https://github.com/OpenPrecincts/verification#vote-score)                                     | 1         |\n",
    "| [county_vote_score_dispersion](https://github.com/OpenPrecincts/verification#county-vote-score-dispersion) | 0         |\n",
    "| [vote_score](https://github.com/OpenPrecincts/verification#vote-score)                                     | 1         |\n",
    "| [median_county_area_difference_score](https://github.com/OpenPrecincts/verification#area-difference-score) | 0.0300684 |\n",
    "| [worst_county_area_difference_score](https://github.com/OpenPrecincts/verification#area-difference-score)  | 0.229951  |\n",
    "\n",
    "### Library Compatibility:\n",
    "|                    |    |\n",
    "|:-------------------|---:|\n",
    "| can_use_maup       |  ✅ |\n",
    "| can_use_gerrychain |  ✅ |\n",
    "\n",
    "### Raw Data:\n",
    "|                               |           |\n",
    "|:------------------------------|:----------|\n",
    "| all_precincts_have_a_geometry | ✅        |\n",
    "| n_votes_democrat_expected     | 1677928.0 |\n",
    "| n_votes_republican_expected   | 943169.0  |\n",
    "| n_two_party_votes_expected    | 2621097.0 |\n",
    "| n_votes_democrat_observed     | 1677928   |\n",
    "| n_votes_republican_observed   | 943169    |\n",
    "| n_two_party_votes_observed    | 2621097   |\n",
    "\n",
    "## County Level Reports\n",
    "|   geoid | name                   |   vote_score |   area_difference_score |   n_votes_democrat_expected |   n_votes_republican_expected |   n_two_party_votes_expected |   n_votes_democrat_observed |   n_votes_republican_observed |   n_two_party_votes_observed |\n",
    "|--------:|:-----------------------|-------------:|------------------------:|----------------------------:|------------------------------:|-----------------------------:|----------------------------:|------------------------------:|-----------------------------:|\n",
    "|   24001 | Allegany County        |            1 |              0.00312633 |                        7875 |                         21270 |                        29145 |                        7875 |                         21270 |                        29145 |\n",
    "|   24003 | Anne Arundel County    |            1 |              0.0852648  |                      128419 |                        122403 |                       250822 |                      128419 |                        122403 |                       250822 |\n",
    "|   24510 | Baltimore city         |            1 |              0.0624491  |                      202673 |                         25205 |                       227878 |                      202673 |                         25205 |                       227878 |\n",
    "|   24005 | Baltimore County       |            1 |              0.0259037  |                      218412 |                        149477 |                       367889 |                      218412 |                        149477 |                       367889 |\n",
    "|   24009 | Calvert County         |            1 |              0.11044    |                       18225 |                         26176 |                        44401 |                       18225 |                         26176 |                        44401 |\n",
    "|   24011 | Caroline County        |            1 |              0.00157089 |                        4009 |                          9368 |                        13377 |                        4009 |                          9368 |                        13377 |\n",
    "|   24013 | Carroll County         |            1 |              0.00377215 |                       26567 |                         58215 |                        84782 |                       26567 |                         58215 |                        84782 |\n",
    "|   24015 | Cecil County           |            1 |              0.0792286  |                       13650 |                         28868 |                        42518 |                       13650 |                         28868 |                        42518 |\n",
    "|   24017 | Charles County         |            1 |              0.0537216  |                       49341 |                         25614 |                        74955 |                       49341 |                         25614 |                        74955 |\n",
    "|   24019 | Dorchester County      |            1 |              0.0488164  |                        6245 |                          8413 |                        14658 |                        6245 |                          8413 |                        14658 |\n",
    "|   24021 | Frederick County       |            1 |              0.0024901  |                       56522 |                         59522 |                       116044 |                       56522 |                         59522 |                       116044 |\n",
    "|   24023 | Garrett County         |            1 |              0.00147298 |                        2567 |                         10776 |                        13343 |                        2567 |                         10776 |                        13343 |\n",
    "|   24025 | Harford County         |            1 |              0.030471   |                       47077 |                         77860 |                       124937 |                       47077 |                         77860 |                       124937 |\n",
    "|   24027 | Howard County          |            1 |              0.00187875 |                      102597 |                         47484 |                       150081 |                      102597 |                         47484 |                       150081 |\n",
    "|   24029 | Kent County            |            1 |              0.0120449  |                        4575 |                          4876 |                         9451 |                        4575 |                          4876 |                         9451 |\n",
    "|   24031 | Montgomery County      |            1 |              0.00268043 |                      357837 |                         92704 |                       450541 |                      357837 |                         92704 |                       450541 |\n",
    "|   24033 | Prince George's County |            1 |              0.0296659  |                      344049 |                         32811 |                       376860 |                      344049 |                         32811 |                       376860 |\n",
    "|   24035 | Queen Anne's County    |            1 |              0.0346297  |                        7973 |                         16993 |                        24966 |                        7973 |                         16993 |                        24966 |\n",
    "|   24039 | Somerset County        |            1 |              0.0702953  |                        4196 |                          5341 |                         9537 |                        4196 |                          5341 |                         9537 |\n",
    "|   24037 | St. Mary's County      |            1 |              0.107291   |                       17534 |                         28663 |                        46197 |                       17534 |                         28663 |                        46197 |\n",
    "|   24041 | Talbot County          |            1 |              0.115895   |                        8653 |                         10724 |                        19377 |                        8653 |                         10724 |                        19377 |\n",
    "|   24043 | Washington County      |            1 |              0.00288996 |                       21129 |                         40998 |                        62127 |                       21129 |                         40998 |                        62127 |\n",
    "|   24045 | Wicomico County        |            1 |              0.00740395 |                       18050 |                         22198 |                        40248 |                       18050 |                         22198 |                        40248 |\n",
    "|   24047 | Worcester County       |            1 |              0.229951   |                        9753 |                         17210 |                        26963 |                        9753 |                         17210 |                        26963 |\n"
   ]
  },
  {
   "cell_type": "markdown",
   "metadata": {},
   "source": [
    "## Example #2 - Manual GEOID Assignment"
   ]
  },
  {
   "cell_type": "markdown",
   "metadata": {},
   "source": [
    "If the [GEOID column](https://github.com/OpenPrecincts/verification#geoid-county-assignment-for-each-precinct) is missing then the script will attempt to create it using the [MAUP package](https://github.com/mggg/maup#assigning-precincts-to-districts) to assign each precinct to the county which contains it. This election shapefile runs into trouble with MAUP"
   ]
  },
  {
   "cell_type": "code",
   "execution_count": null,
   "metadata": {},
   "outputs": [],
   "source": [
    "gdf = gpd.read_file('example-election-shapefiles/vest-nh-2016')\n",
    "print(gdf.plot())"
   ]
  },
  {
   "cell_type": "code",
   "execution_count": null,
   "metadata": {},
   "outputs": [],
   "source": [
    "gdf.head(2)"
   ]
  },
  {
   "cell_type": "code",
   "execution_count": null,
   "metadata": {},
   "outputs": [],
   "source": [
    "state_report, county_report_lst = verify.verify_state(gdf, 'NH', 'VEST', '2016')"
   ]
  },
  {
   "cell_type": "markdown",
   "metadata": {},
   "source": [
    "This assertion error is telling us that we are missing a GEOID column and the script was unable to assign it automatically. Luckily, this NH GeoDataFrame already has the two consitutents of a GEOID:\n",
    "* STATEFP\n",
    "* COUNTFP\n",
    "\n",
    "So we can create a GEOID column manually like so:"
   ]
  },
  {
   "cell_type": "code",
   "execution_count": null,
   "metadata": {},
   "outputs": [],
   "source": [
    "gdf['GEOID'] = gdf['STATEFP'].map(str) + gdf['COUNTYFP'].map(str)\n",
    "gdf.GEOID.head(5)"
   ]
  },
  {
   "cell_type": "code",
   "execution_count": null,
   "metadata": {},
   "outputs": [],
   "source": [
    "report_file_path = 'vest-new-hampshire-2016'\n",
    "state_report, county_report_lst = verify.verify_state(gdf, 'NH', 'VEST', '2016',path=report_file_path)"
   ]
  },
  {
   "cell_type": "markdown",
   "metadata": {},
   "source": [
    "Great! Now let's see what that report looks like (contents of `vest-new-hampshire-2016.md`):"
   ]
  },
  {
   "cell_type": "markdown",
   "metadata": {},
   "source": [
    "\n",
    "# Election Shapefile Verification Report\n",
    "\n",
    "[Open Precincts Verification Script](https://github.com/OpenPrecincts/verification)\n",
    "\n",
    "[Verification Report Breakdown](https://github.com/OpenPrecincts/verification#verification-report-fields)\n",
    "## Statewide Reports\n",
    "\n",
    "### Quality Scores:\n",
    "|                                                                                                            |            |\n",
    "|:-----------------------------------------------------------------------------------------------------------|-----------:|\n",
    "| [vote_score](https://github.com/OpenPrecincts/verification#vote-score)                                     | 1          |\n",
    "| [county_vote_score_dispersion](https://github.com/OpenPrecincts/verification#county-vote-score-dispersion) | 0          |\n",
    "| [vote_score](https://github.com/OpenPrecincts/verification#vote-score)                                     | 1          |\n",
    "| [median_county_area_difference_score](https://github.com/OpenPrecincts/verification#area-difference-score) | 0.00107231 |\n",
    "| [worst_county_area_difference_score](https://github.com/OpenPrecincts/verification#area-difference-score)  | 0.0869853  |\n",
    "\n",
    "### Library Compatibility:\n",
    "|                    |    |\n",
    "|:-------------------|---:|\n",
    "| can_use_maup       |  ✅ |\n",
    "| can_use_gerrychain |  ✅ |\n",
    "\n",
    "### Raw Data:\n",
    "|                               |          |\n",
    "|:------------------------------|:---------|\n",
    "| all_precincts_have_a_geometry | ✅       |\n",
    "| n_votes_democrat_expected     | 348526.0 |\n",
    "| n_votes_republican_expected   | 345790.0 |\n",
    "| n_two_party_votes_expected    | 694316.0 |\n",
    "| n_votes_democrat_observed     | 348526   |\n",
    "| n_votes_republican_observed   | 345790   |\n",
    "| n_two_party_votes_observed    | 694316   |\n",
    "\n",
    "## County Level Reports\n",
    "|   geoid | name            |   vote_score |   area_difference_score |   n_votes_democrat_expected |   n_votes_republican_expected |   n_two_party_votes_expected |   n_votes_democrat_observed |   n_votes_republican_observed |   n_two_party_votes_observed |\n",
    "|--------:|:----------------|-------------:|------------------------:|----------------------------:|------------------------------:|-----------------------------:|----------------------------:|------------------------------:|-----------------------------:|\n",
    "|   33001 | Tilton town     |            1 |             0.00105878  |                       13517 |                         19315 |                        32832 |                       13517 |                         19315 |                        32832 |\n",
    "|   33003 | Wolfeboro town  |            1 |             0.000835692 |                       12987 |                         14635 |                        27622 |                       12987 |                         14635 |                        27622 |\n",
    "|   33005 | Winchester town |            1 |             0.00108585  |                       22064 |                         16876 |                        38940 |                       22064 |                         16876 |                        38940 |\n",
    "|   33007 | Whitefield town |            1 |             0.00199538  |                        6563 |                          7952 |                        14515 |                        6563 |                          7952 |                        14515 |\n",
    "|   33009 | Woodstock town  |            1 |             0.000988192 |                       28510 |                         19010 |                        47520 |                       28510 |                         19010 |                        47520 |\n",
    "|   33011 | Windsor town    |            1 |             0.000521307 |                       99589 |                        100013 |                       199602 |                       99589 |                        100013 |                       199602 |\n",
    "|   33013 | Wilmot town     |            1 |             0.000487777 |                       40198 |                         37674 |                        77872 |                       40198 |                         37674 |                        77872 |\n",
    "|   33015 | Windham town    |            1 |             0.0869853   |                       79994 |                         90447 |                       170441 |                       79994 |                         90447 |                       170441 |\n",
    "|   33017 | Strafford town  |            1 |             0.00270899  |                       34894 |                         29072 |                        63966 |                       34894 |                         29072 |                        63966 |\n",
    "|   33019 | Washington town |            1 |             0.00146217  |                       10210 |                         10796 |                        21006 |                       10210 |                         10796 |                        21006 |\n"
   ]
  },
  {
   "cell_type": "markdown",
   "metadata": {},
   "source": [
    "In a less trivial case, you may have the county names, but not their FIPS code. Let's consider VEST's Washington 2016:"
   ]
  },
  {
   "cell_type": "code",
   "execution_count": null,
   "metadata": {},
   "outputs": [],
   "source": [
    "gdf = gpd.read_file('example-election-shapefiles/vest-wa-2016')\n",
    "print(gdf.plot())\n",
    "gdf.head(2)"
   ]
  },
  {
   "cell_type": "code",
   "execution_count": null,
   "metadata": {},
   "outputs": [],
   "source": [
    "from reference_data import state_fip_to_geoid_to_county_name\n",
    "washington_state_fips_code = 53\n",
    "geoid_to_county_name = state_fip_to_geoid_to_county_name[53]\n",
    "geoid_to_county_name"
   ]
  },
  {
   "cell_type": "code",
   "execution_count": null,
   "metadata": {},
   "outputs": [],
   "source": [
    "gdf['GEOID'] = gdf['COUNTY'].apply(lambda x: geoid_to_county_name[x + \" County\"])\n",
    "print(gdf.GEOID.unique())\n",
    "gdf.head(2)"
   ]
  },
  {
   "cell_type": "markdown",
   "metadata": {},
   "source": [
    "Now Washington has a GEOID column and can be run through the verification script."
   ]
  },
  {
   "cell_type": "markdown",
   "metadata": {},
   "source": [
    "## Example #3 - Manual Candidate Column Selection\n",
    "The script needs to know which column contains votes for Clinton and which column contains votes for Trump. They can be manually entered as arguments:\n",
    "\n",
    "* `d_col` denotes the column for Hillary Clinton vote counts in each precinct\n",
    "* `r_col` denotes the column for Donald Trump vote counts in each precinct.\n",
    "\n",
    "Without those arguments, the script will guess based on the expected number of votes for each candidate."
   ]
  },
  {
   "cell_type": "code",
   "execution_count": null,
   "metadata": {},
   "outputs": [],
   "source": [
    "gdf = gpd.read_file('example-election-shapefiles/mggg-vt-2016')\n",
    "print(gdf.plot())\n",
    "gdf.head(2)"
   ]
  },
  {
   "cell_type": "code",
   "execution_count": null,
   "metadata": {},
   "outputs": [],
   "source": [
    "report_file_path = 'mggg-vermont-2016'\n",
    "state_report, county_report_lst = verify.verify_state(gdf, 'VT', 'MGGG', '2016',path=report_file_path)"
   ]
  },
  {
   "cell_type": "markdown",
   "metadata": {},
   "source": [
    "None of those look right, so we will have to pass the correct columns as arguements."
   ]
  },
  {
   "cell_type": "code",
   "execution_count": null,
   "metadata": {},
   "outputs": [],
   "source": [
    "gdf.columns"
   ]
  },
  {
   "cell_type": "code",
   "execution_count": null,
   "metadata": {},
   "outputs": [],
   "source": [
    "d_col = 'PRES16D'\n",
    "r_col = 'PRES16R'\n",
    "state_report, county_report_lst = verify.verify_state(gdf, 'VT', 'MGGG', '2016', d_col=d_col, r_col=r_col, path=report_file_path)"
   ]
  },
  {
   "cell_type": "markdown",
   "metadata": {},
   "source": [
    "`mggg-vermont-2016.md` content:"
   ]
  },
  {
   "cell_type": "markdown",
   "metadata": {},
   "source": [
    "\n",
    "# Election Shapefile Verification Report\n",
    "\n",
    "[Open Precincts Verification Script](https://github.com/OpenPrecincts/verification)\n",
    "\n",
    "[Verification Report Breakdown](https://github.com/OpenPrecincts/verification#verification-report-fields)\n",
    "## Statewide Reports\n",
    "\n",
    "### Quality Scores:\n",
    "|                                                                                                            |           |\n",
    "|:-----------------------------------------------------------------------------------------------------------|----------:|\n",
    "| [vote_score](https://github.com/OpenPrecincts/verification#vote-score)                                     | 1         |\n",
    "| [county_vote_score_dispersion](https://github.com/OpenPrecincts/verification#county-vote-score-dispersion) | 0         |\n",
    "| [vote_score](https://github.com/OpenPrecincts/verification#vote-score)                                     | 1         |\n",
    "| [median_county_area_difference_score](https://github.com/OpenPrecincts/verification#area-difference-score) | 0.0011365 |\n",
    "| [worst_county_area_difference_score](https://github.com/OpenPrecincts/verification#area-difference-score)  | 0.322525  |\n",
    "\n",
    "### Library Compatibility:\n",
    "|                    |    |\n",
    "|:-------------------|---:|\n",
    "| can_use_maup       |  ✅ |\n",
    "| can_use_gerrychain |  ✅ |\n",
    "\n",
    "### Raw Data:\n",
    "|                               |          |\n",
    "|:------------------------------|:---------|\n",
    "| all_precincts_have_a_geometry | ✅       |\n",
    "| n_votes_democrat_expected     | 178573.0 |\n",
    "| n_votes_republican_expected   | 95369.0  |\n",
    "| n_two_party_votes_expected    | 273942.0 |\n",
    "| n_votes_democrat_observed     | 178573   |\n",
    "| n_votes_republican_observed   | 95369    |\n",
    "| n_two_party_votes_observed    | 273942   |\n",
    "\n",
    "## County Level Reports\n",
    "|   geoid | name              |   vote_score |   area_difference_score |   n_votes_democrat_expected |   n_votes_republican_expected |   n_two_party_votes_expected |   n_votes_democrat_observed |   n_votes_republican_observed |   n_two_party_votes_observed |\n",
    "|--------:|:------------------|-------------:|------------------------:|----------------------------:|------------------------------:|-----------------------------:|----------------------------:|------------------------------:|-----------------------------:|\n",
    "|   50005 | Wheelock town     |            1 |             0.00135788  |                        6445 |                          5534 |                        11979 |                        6445 |                          5534 |                        11979 |\n",
    "|   50001 | Whiting town      |            1 |             0.000915124 |                       11219 |                          5297 |                        16516 |                       11219 |                          5297 |                        16516 |\n",
    "|   50009 | Warren's gore     |            1 |             0.322525    |                        1019 |                          1506 |                         2525 |                        1019 |                          1506 |                         2525 |\n",
    "|   50011 | Swanton town      |            1 |             0.000518428 |                        9351 |                          8752 |                        18103 |                        9351 |                          8752 |                        18103 |\n",
    "|   50015 | Wolcott town      |            1 |             0.000738848 |                        7241 |                          3570 |                        10811 |                        7241 |                          3570 |                        10811 |\n",
    "|   50021 | West Rutland town |            1 |             0.000841367 |                       13635 |                         12479 |                        26114 |                       13635 |                         12479 |                        26114 |\n",
    "|   50027 | Woodstock town    |            1 |             0.000791351 |                       17556 |                          8605 |                        26161 |                       17556 |                          8605 |                        26161 |\n",
    "|   50025 | Windham town      |            1 |             0.0376398   |                       14340 |                          5454 |                        19794 |                       14340 |                          5454 |                        19794 |\n",
    "|   50013 | South Hero town   |            1 |             0.00182573  |                        2094 |                          1487 |                         3581 |                        2094 |                          1487 |                         3581 |\n",
    "|   50023 | Worcester town    |            1 |             0.000878697 |                       18594 |                          7993 |                        26587 |                       18594 |                          7993 |                        26587 |\n",
    "|   50007 | Winooski city     |            1 |             0.00850849  |                       54814 |                         18601 |                        73415 |                       54814 |                         18601 |                        73415 |\n",
    "|   50017 | Williamstown town |            1 |             0.00171775  |                        7541 |                          5007 |                        12548 |                        7541 |                          5007 |                        12548 |\n",
    "|   50019 | Westmore town     |            1 |             0.000741648 |                        5185 |                          5159 |                        10344 |                        5185 |                          5159 |                        10344 |\n",
    "|   50003 | Woodford town     |            1 |             0.0707742   |                        9539 |                          5925 |                        15464 |                        9539 |                          5925 |                        15464 |\n"
   ]
  },
  {
   "cell_type": "markdown",
   "metadata": {},
   "source": [
    "That's it! You may need to combine the method used in example 2 and example 3 in some cases, but hopefully most states will work like example #1. Happy Verifying :)"
   ]
  }
 ],
 "metadata": {
  "kernelspec": {
   "display_name": "Python 3",
   "language": "python",
   "name": "python3"
  },
  "language_info": {
   "codemirror_mode": {
    "name": "ipython",
    "version": 3
   },
   "file_extension": ".py",
   "mimetype": "text/x-python",
   "name": "python",
   "nbconvert_exporter": "python",
   "pygments_lexer": "ipython3",
   "version": "3.7.6"
  }
 },
 "nbformat": 4,
 "nbformat_minor": 4
}
